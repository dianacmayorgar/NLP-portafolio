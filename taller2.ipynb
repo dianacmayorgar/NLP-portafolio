{
 "cells": [
  {
   "cell_type": "markdown",
   "metadata": {},
   "source": [
    "<img src='https://encrypted-tbn0.gstatic.com/images?q=tbn%3AANd9GcQ-VfNtOyJbsaxu43Kztf_cv1mgBG6ZIQZEVw&usqp=CAU'>\n",
    "\n",
    "# Procesamiento de Lenguage Natural\n",
    "\n",
    "## Taller #2: Adquisición de textos\n",
    "`Fecha de entrega: Marzo 4, 2021. (Antes del inicio de la próxima clase).`"
   ]
  },
  {
   "cell_type": "markdown",
   "metadata": {},
   "source": [
    "# Punto 1:\n",
    "\n",
    "- `[18 pts]` Descomprimir el archivo `.zip` de `python_books`\n",
    "- `[22 pts]` Leer cada uno de sus archivos\n",
    "- `[10 pts]` Responder: ¿Cuál archivo tiene el mayor número de palabras?"
   ]
  },
  {
   "cell_type": "code",
   "execution_count": 18,
   "metadata": {},
   "outputs": [],
   "source": [
    "import os\n",
    "from zipfile import ZipFile"
   ]
  },
  {
   "cell_type": "code",
   "execution_count": 33,
   "metadata": {},
   "outputs": [],
   "source": [
    "direccion = \"G:/Mi unidad/NANI/_ESTUDIOS/_Especialización/Semestre 2/NLP/Clase 2/Taller 2/python_books.zip\""
   ]
  },
  {
   "cell_type": "code",
   "execution_count": 35,
   "metadata": {},
   "outputs": [],
   "source": [
    "with ZipFile (direccion) as archivo:\n",
    "    archivo.extractall(\"G:/Mi unidad/NANI/_ESTUDIOS/_Especialización/Semestre 2/NLP/Clase 2/Taller 2\")"
   ]
  },
  {
   "cell_type": "code",
   "execution_count": 39,
   "metadata": {},
   "outputs": [],
   "source": [
    "import shutil\n",
    "shutil.rmtree(\"G:/Mi unidad/NANI/_ESTUDIOS/_Especialización/Semestre 2/NLP/Clase 2/Taller 2/__MACOSX\")"
   ]
  },
  {
   "cell_type": "code",
   "execution_count": 40,
   "metadata": {},
   "outputs": [
    {
     "name": "stdout",
     "output_type": "stream",
     "text": [
      "('G:/Mi unidad/NANI/_ESTUDIOS/_Especialización/Semestre 2/NLP/Clase 2/Taller 2/python_books', [], ['Python - Finance.pdf', 'Python  Data Science Cookbook.pdf', 'Python - AWS.pdf'])\n",
      "Python - Finance.pdf\n",
      "Python  Data Science Cookbook.pdf\n",
      "Python - AWS.pdf\n"
     ]
    }
   ],
   "source": [
    "for archivo in os.walk(\"G:/Mi unidad/NANI/_ESTUDIOS/_Especialización/Semestre 2/NLP/Clase 2/Taller 2/python_books\"):\n",
    "    print(archivo)\n",
    "    \n",
    "for raiz, dirs, archivos in os.walk(\"G:/Mi unidad/NANI/_ESTUDIOS/_Especialización/Semestre 2/NLP/Clase 2/Taller 2/python_books\"):\n",
    "    # print(raiz, dirs, archivos)\t\n",
    "    for a in archivos: \n",
    "        print(a)"
   ]
  },
  {
   "cell_type": "code",
   "execution_count": 77,
   "metadata": {},
   "outputs": [],
   "source": [
    "import fitz"
   ]
  },
  {
   "cell_type": "code",
   "execution_count": 80,
   "metadata": {},
   "outputs": [],
   "source": [
    "documento = fitz.open(\"G:/Mi unidad/NANI/_ESTUDIOS/_Especialización/Semestre 2/NLP/Clase 2/Taller 2/python_books/Python - Finance.pdf\")"
   ]
  },
  {
   "cell_type": "code",
   "execution_count": 81,
   "metadata": {},
   "outputs": [],
   "source": [
    "documento1 = fitz.open(\"G:/Mi unidad/NANI/_ESTUDIOS/_Especialización/Semestre 2/NLP/Clase 2/Taller 2/python_books/Python - AWS.pdf\")"
   ]
  },
  {
   "cell_type": "code",
   "execution_count": 85,
   "metadata": {},
   "outputs": [],
   "source": [
    "documento2 = fitz.open(\"G:/Mi unidad/NANI/_ESTUDIOS/_Especialización/Semestre 2/NLP/Clase 2/Taller 2/python_books/Python  Data Science Cookbook.pdf\")"
   ]
  },
  {
   "cell_type": "code",
   "execution_count": 113,
   "metadata": {},
   "outputs": [
    {
     "name": "stdout",
     "output_type": "stream",
     "text": [
      "El documento Python - Finance contiene: 226 palabras\n"
     ]
    }
   ],
   "source": [
    "pagina = documento.loadPage(0)\n",
    "texto = pagina.getText(\"text\")\n",
    "palabras = texto.split()\n",
    "Num_palabras = len(palabras)\n",
    "print (\"El documento Python - Finance contiene: \" + str(Num_palabras) + \" palabras\")"
   ]
  },
  {
   "cell_type": "code",
   "execution_count": 120,
   "metadata": {},
   "outputs": [
    {
     "name": "stdout",
     "output_type": "stream",
     "text": [
      "El documento Python - AWS contiene: 254 palabras\n"
     ]
    }
   ],
   "source": [
    "pagina1 = documento1.loadPage(0)\n",
    "texto1 = pagina1.getText(\"text\")\n",
    "palabras1 = texto1.split()\n",
    "Num_palabras1 = len(palabras1)\n",
    "print (\"El documento Python - AWS contiene: \" + str(Num_palabras1) + \" palabras\")"
   ]
  },
  {
   "cell_type": "code",
   "execution_count": 123,
   "metadata": {},
   "outputs": [
    {
     "name": "stdout",
     "output_type": "stream",
     "text": [
      "El documento Python  Data Science Cookbook contiene: 535 palabras\n"
     ]
    }
   ],
   "source": [
    "pagina2 = documento2.loadPage(0)\n",
    "texto2 = pagina2.getText(\"text\")\n",
    "palabras2 = texto2.split()\n",
    "Num_palabras2 = len(palabras2)\n",
    "print (\"El documento Python  Data Science Cookbook contiene: \" + str(Num_palabras2) + \" palabras\")"
   ]
  },
  {
   "cell_type": "markdown",
   "metadata": {},
   "source": [
    "# El archivo que tiene mayor número de palabras es el \"Python  Data Science Cookbook\" que tiene 535 palabras"
   ]
  }
 ],
 "metadata": {
  "kernelspec": {
   "display_name": "Python 3",
   "language": "python",
   "name": "python3"
  },
  "language_info": {
   "codemirror_mode": {
    "name": "ipython",
    "version": 3
   },
   "file_extension": ".py",
   "mimetype": "text/x-python",
   "name": "python",
   "nbconvert_exporter": "python",
   "pygments_lexer": "ipython3",
   "version": "3.8.3"
  }
 },
 "nbformat": 4,
 "nbformat_minor": 2
}
