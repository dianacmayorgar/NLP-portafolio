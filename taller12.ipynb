{
  "nbformat": 4,
  "nbformat_minor": 0,
  "metadata": {
    "kernelspec": {
      "display_name": "Python 3",
      "language": "python",
      "name": "python3"
    },
    "language_info": {
      "codemirror_mode": {
        "name": "ipython",
        "version": 3
      },
      "file_extension": ".py",
      "mimetype": "text/x-python",
      "name": "python",
      "nbconvert_exporter": "python",
      "pygments_lexer": "ipython3",
      "version": "3.7.4"
    },
    "colab": {
      "name": "taller12.ipynb",
      "provenance": []
    }
  },
  "cells": [
    {
      "cell_type": "markdown",
      "metadata": {
        "id": "qkLgZGRz5C8K"
      },
      "source": [
        "<img src='https://encrypted-tbn0.gstatic.com/images?q=tbn%3AANd9GcQ-VfNtOyJbsaxu43Kztf_cv1mgBG6ZIQZEVw&usqp=CAU'>\n",
        "\n",
        "# Procesamiento de Lenguaje Natural\n",
        "\n",
        "## Taller #12: Análisis de sentimiento\n",
        "`Fecha de entrega: Mayo 27, 2021 (Antes del inicio de la próxima clase).`\n",
        "\n",
        "`Modo de entrega: Subir link de GitHub al aula virtual.`"
      ]
    },
    {
      "cell_type": "markdown",
      "metadata": {
        "id": "zem4gVWe5C8Q"
      },
      "source": [
        ""
      ]
    },
    {
      "cell_type": "code",
      "metadata": {
        "id": "goYTe7oR5Qk8"
      },
      "source": [
        "#!pip install vaderSentiment\n",
        "#import nltk\n",
        "#nltk.download()\n",
        "#!pip install textblob\n",
        "from vaderSentiment.vaderSentiment import SentimentIntensityAnalyzer\n",
        "#from textblob import TextBlob\n",
        "import pandas as pd"
      ],
      "execution_count": 7,
      "outputs": []
    },
    {
      "cell_type": "code",
      "metadata": {
        "colab": {
          "base_uri": "https://localhost:8080/"
        },
        "id": "XO8HT8B36zvv",
        "outputId": "2978b3c6-eb3a-44f7-86aa-a344d6d9b76d"
      },
      "source": [
        "data = pd.read_csv(\"/content/archivo.csv\")\n",
        "data.columns"
      ],
      "execution_count": 9,
      "outputs": [
        {
          "output_type": "execute_result",
          "data": {
            "text/plain": [
              "Index(['tweets', 'date', 'city', 'user_location', 'id', 'link'], dtype='object')"
            ]
          },
          "metadata": {
            "tags": []
          },
          "execution_count": 9
        }
      ]
    },
    {
      "cell_type": "code",
      "metadata": {
        "colab": {
          "base_uri": "https://localhost:8080/",
          "height": 204
        },
        "id": "rROWCqKf52su",
        "outputId": "6df42def-99bc-42de-b056-47b39ef823a3"
      },
      "source": [
        "vader = SentimentIntensityAnalyzer()\n",
        "data['sent_vader'] = data['tweets'].apply(lambda val: vader.polarity_scores(val)['compound'])\n",
        "data[['tweets', 'sent_vader']].tail()\n",
        "\n",
        "data[['tweets', 'sent_vader']].sort_values('sent_vader').head()"
      ],
      "execution_count": 10,
      "outputs": [
        {
          "output_type": "execute_result",
          "data": {
            "text/html": [
              "<div>\n",
              "<style scoped>\n",
              "    .dataframe tbody tr th:only-of-type {\n",
              "        vertical-align: middle;\n",
              "    }\n",
              "\n",
              "    .dataframe tbody tr th {\n",
              "        vertical-align: top;\n",
              "    }\n",
              "\n",
              "    .dataframe thead th {\n",
              "        text-align: right;\n",
              "    }\n",
              "</style>\n",
              "<table border=\"1\" class=\"dataframe\">\n",
              "  <thead>\n",
              "    <tr style=\"text-align: right;\">\n",
              "      <th></th>\n",
              "      <th>tweets</th>\n",
              "      <th>sent_vader</th>\n",
              "    </tr>\n",
              "  </thead>\n",
              "  <tbody>\n",
              "    <tr>\n",
              "      <th>20</th>\n",
              "      <td>Señores\\nLa @CopaAmerica no se jugará en Colom...</td>\n",
              "      <td>-0.9274</td>\n",
              "    </tr>\n",
              "    <tr>\n",
              "      <th>87</th>\n",
              "      <td>@mauricioacostal Gracias por compartir esta tr...</td>\n",
              "      <td>-0.6486</td>\n",
              "    </tr>\n",
              "    <tr>\n",
              "      <th>12</th>\n",
              "      <td>#PérdidasSectorAvícola | La situación pone en ...</td>\n",
              "      <td>-0.6486</td>\n",
              "    </tr>\n",
              "    <tr>\n",
              "      <th>9</th>\n",
              "      <td>¡Colombia no está sola! Nos acompaña el mu no ...</td>\n",
              "      <td>-0.6458</td>\n",
              "    </tr>\n",
              "    <tr>\n",
              "      <th>73</th>\n",
              "      <td>@RevistaSemana ¿Qué tan común es que una polic...</td>\n",
              "      <td>-0.6046</td>\n",
              "    </tr>\n",
              "  </tbody>\n",
              "</table>\n",
              "</div>"
            ],
            "text/plain": [
              "                                               tweets  sent_vader\n",
              "20  Señores\\nLa @CopaAmerica no se jugará en Colom...     -0.9274\n",
              "87  @mauricioacostal Gracias por compartir esta tr...     -0.6486\n",
              "12  #PérdidasSectorAvícola | La situación pone en ...     -0.6486\n",
              "9   ¡Colombia no está sola! Nos acompaña el mu no ...     -0.6458\n",
              "73  @RevistaSemana ¿Qué tan común es que una polic...     -0.6046"
            ]
          },
          "metadata": {
            "tags": []
          },
          "execution_count": 10
        }
      ]
    },
    {
      "cell_type": "markdown",
      "metadata": {
        "id": "RVu_iEVR5C8R"
      },
      "source": [
        "###  `[25 pts]` Punto 2: ¿Cuál es el tuit más positivo y más negativo?"
      ]
    },
    {
      "cell_type": "code",
      "metadata": {
        "colab": {
          "base_uri": "https://localhost:8080/"
        },
        "id": "H7IGDxLpH3xV",
        "outputId": "5abe6af3-c74d-4d0a-97d3-4b9e87ff62ea"
      },
      "source": [
        "print(max(data.sent_vader))\n",
        "print(min(data.sent_vader))"
      ],
      "execution_count": 11,
      "outputs": [
        {
          "output_type": "stream",
          "text": [
            "0.5093\n",
            "-0.9274\n"
          ],
          "name": "stdout"
        }
      ]
    },
    {
      "cell_type": "code",
      "metadata": {
        "id": "G30-kCwcLHth"
      },
      "source": [
        "pos_neg = data[['tweets', 'sent_vader']].sort_values('sent_vader')"
      ],
      "execution_count": 22,
      "outputs": []
    },
    {
      "cell_type": "code",
      "metadata": {
        "colab": {
          "base_uri": "https://localhost:8080/",
          "height": 69
        },
        "id": "kxCqeZFgrkTx",
        "outputId": "8c86153a-8e4e-4237-ed75-fe4d6dbe8764"
      },
      "source": [
        "print(f'El comentario más negativo es:')\n",
        "pos_neg.iloc[0,0]"
      ],
      "execution_count": 30,
      "outputs": [
        {
          "output_type": "stream",
          "text": [
            "El comentario más negativo es:\n"
          ],
          "name": "stdout"
        },
        {
          "output_type": "execute_result",
          "data": {
            "application/vnd.google.colaboratory.intrinsic+json": {
              "type": "string"
            },
            "text/plain": [
              "'Señores\\nLa @CopaAmerica no se jugará en Colombia gracias al paro nacional y a la situación que vive el país me da pesar pero así es mejor y esperamos a que en otra ocasión ya sea en los próximos años se logre volver a ser sede 🇨🇴🏆😭😭😭😭 https://t.co/oz6udLeCV0'"
            ]
          },
          "metadata": {
            "tags": []
          },
          "execution_count": 30
        }
      ]
    },
    {
      "cell_type": "code",
      "metadata": {
        "colab": {
          "base_uri": "https://localhost:8080/",
          "height": 52
        },
        "id": "qJUI9agesn_Y",
        "outputId": "1463b1af-83af-4c1a-8c28-5dba657e2066"
      },
      "source": [
        "print(f'El comentario más positivo es:')\n",
        "pos_neg.iloc[-1,0]"
      ],
      "execution_count": 31,
      "outputs": [
        {
          "output_type": "stream",
          "text": [
            "El comentario más positivo es:\n"
          ],
          "name": "stdout"
        },
        {
          "output_type": "execute_result",
          "data": {
            "application/vnd.google.colaboratory.intrinsic+json": {
              "type": "string"
            },
            "text/plain": [
              "'Tengo que hacer un discurso en mi trabajo. Medio fav y grito: ¡VIVA EL PARO NACIONAL!'"
            ]
          },
          "metadata": {
            "tags": []
          },
          "execution_count": 31
        }
      ]
    }
  ]
}