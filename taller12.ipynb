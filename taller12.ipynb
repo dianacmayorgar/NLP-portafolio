{
  "nbformat": 4,
  "nbformat_minor": 0,
  "metadata": {
    "kernelspec": {
      "display_name": "Python 3",
      "language": "python",
      "name": "python3"
    },
    "language_info": {
      "codemirror_mode": {
        "name": "ipython",
        "version": 3
      },
      "file_extension": ".py",
      "mimetype": "text/x-python",
      "name": "python",
      "nbconvert_exporter": "python",
      "pygments_lexer": "ipython3",
      "version": "3.7.4"
    },
    "colab": {
      "name": "taller12.ipynb",
      "provenance": []
    }
  },
  "cells": [
    {
      "cell_type": "markdown",
      "metadata": {
        "id": "qkLgZGRz5C8K"
      },
      "source": [
        "<img src='https://encrypted-tbn0.gstatic.com/images?q=tbn%3AANd9GcQ-VfNtOyJbsaxu43Kztf_cv1mgBG6ZIQZEVw&usqp=CAU'>\n",
        "\n",
        "# Procesamiento de Lenguaje Natural\n",
        "\n",
        "## Taller #12: Análisis de sentimiento\n",
        "`Fecha de entrega: Mayo 27, 2021 (Antes del inicio de la próxima clase).`\n",
        "\n",
        "`Modo de entrega: Subir link de GitHub al aula virtual.`"
      ]
    },
    {
      "cell_type": "markdown",
      "metadata": {
        "id": "zem4gVWe5C8Q"
      },
      "source": [
        ""
      ]
    },
    {
      "cell_type": "code",
      "metadata": {
        "id": "goYTe7oR5Qk8"
      },
      "source": [
        "#!pip install vaderSentiment\n",
        "#import nltk\n",
        "#nltk.download()\n",
        "#!pip install textblob\n",
        "from vaderSentiment.vaderSentiment import SentimentIntensityAnalyzer\n",
        "from textblob import TextBlob\n",
        "import pandas as pd"
      ],
      "execution_count": 30,
      "outputs": []
    },
    {
      "cell_type": "code",
      "metadata": {
        "colab": {
          "base_uri": "https://localhost:8080/"
        },
        "id": "XO8HT8B36zvv",
        "outputId": "d3e1d4ce-fb21-466a-fd72-663498ffc1ba"
      },
      "source": [
        "data = pd.read_csv(\"/content/archivo.csv\")\n",
        "data.columns"
      ],
      "execution_count": 31,
      "outputs": [
        {
          "output_type": "execute_result",
          "data": {
            "text/plain": [
              "Index(['tweets', 'date', 'city', 'user_location', 'id', 'link'], dtype='object')"
            ]
          },
          "metadata": {
            "tags": []
          },
          "execution_count": 31
        }
      ]
    },
    {
      "cell_type": "code",
      "metadata": {
        "colab": {
          "base_uri": "https://localhost:8080/",
          "height": 204
        },
        "id": "rROWCqKf52su",
        "outputId": "4c74b685-8b43-41ae-9731-55b1cfa05036"
      },
      "source": [
        "vader = SentimentIntensityAnalyzer()\n",
        "data['sent_vader'] = data['tweets'].apply(lambda val: vader.polarity_scores(val)['compound'])\n",
        "data[['tweets', 'sent_vader']].tail()\n",
        "\n",
        "data[['tweets', 'sent_vader']].sort_values('sent_vader').head()"
      ],
      "execution_count": 64,
      "outputs": [
        {
          "output_type": "execute_result",
          "data": {
            "text/html": [
              "<div>\n",
              "<style scoped>\n",
              "    .dataframe tbody tr th:only-of-type {\n",
              "        vertical-align: middle;\n",
              "    }\n",
              "\n",
              "    .dataframe tbody tr th {\n",
              "        vertical-align: top;\n",
              "    }\n",
              "\n",
              "    .dataframe thead th {\n",
              "        text-align: right;\n",
              "    }\n",
              "</style>\n",
              "<table border=\"1\" class=\"dataframe\">\n",
              "  <thead>\n",
              "    <tr style=\"text-align: right;\">\n",
              "      <th></th>\n",
              "      <th>tweets</th>\n",
              "      <th>sent_vader</th>\n",
              "    </tr>\n",
              "  </thead>\n",
              "  <tbody>\n",
              "    <tr>\n",
              "      <th>20</th>\n",
              "      <td>Señores\\nLa @CopaAmerica no se jugará en Colom...</td>\n",
              "      <td>-0.9274</td>\n",
              "    </tr>\n",
              "    <tr>\n",
              "      <th>87</th>\n",
              "      <td>@mauricioacostal Gracias por compartir esta tr...</td>\n",
              "      <td>-0.6486</td>\n",
              "    </tr>\n",
              "    <tr>\n",
              "      <th>12</th>\n",
              "      <td>#PérdidasSectorAvícola | La situación pone en ...</td>\n",
              "      <td>-0.6486</td>\n",
              "    </tr>\n",
              "    <tr>\n",
              "      <th>9</th>\n",
              "      <td>¡Colombia no está sola! Nos acompaña el mu no ...</td>\n",
              "      <td>-0.6458</td>\n",
              "    </tr>\n",
              "    <tr>\n",
              "      <th>73</th>\n",
              "      <td>@RevistaSemana ¿Qué tan común es que una polic...</td>\n",
              "      <td>-0.6046</td>\n",
              "    </tr>\n",
              "  </tbody>\n",
              "</table>\n",
              "</div>"
            ],
            "text/plain": [
              "                                               tweets  sent_vader\n",
              "20  Señores\\nLa @CopaAmerica no se jugará en Colom...     -0.9274\n",
              "87  @mauricioacostal Gracias por compartir esta tr...     -0.6486\n",
              "12  #PérdidasSectorAvícola | La situación pone en ...     -0.6486\n",
              "9   ¡Colombia no está sola! Nos acompaña el mu no ...     -0.6458\n",
              "73  @RevistaSemana ¿Qué tan común es que una polic...     -0.6046"
            ]
          },
          "metadata": {
            "tags": []
          },
          "execution_count": 64
        }
      ]
    },
    {
      "cell_type": "markdown",
      "metadata": {
        "id": "RVu_iEVR5C8R"
      },
      "source": [
        "###  `[25 pts]` Punto 2: ¿Cuál es el tuit más positivo y más negativo?"
      ]
    },
    {
      "cell_type": "code",
      "metadata": {
        "colab": {
          "base_uri": "https://localhost:8080/"
        },
        "id": "H7IGDxLpH3xV",
        "outputId": "b7d1a61c-310c-46d1-ab5a-a306ba9c551d"
      },
      "source": [
        "print(max(data.sent_vader))\n",
        "print(min(data.sent_vader))"
      ],
      "execution_count": 58,
      "outputs": [
        {
          "output_type": "stream",
          "text": [
            "0.5093\n",
            "-0.9274\n"
          ],
          "name": "stdout"
        }
      ]
    },
    {
      "cell_type": "code",
      "metadata": {
        "colab": {
          "base_uri": "https://localhost:8080/",
          "height": 589
        },
        "id": "G30-kCwcLHth",
        "outputId": "13bb4262-00fe-4ac1-d343-480fcb8d67ba"
      },
      "source": [
        "mayor_menor = data.sort_values('sent_vader')\n",
        "mayor_menor"
      ],
      "execution_count": 59,
      "outputs": [
        {
          "output_type": "execute_result",
          "data": {
            "text/html": [
              "<div>\n",
              "<style scoped>\n",
              "    .dataframe tbody tr th:only-of-type {\n",
              "        vertical-align: middle;\n",
              "    }\n",
              "\n",
              "    .dataframe tbody tr th {\n",
              "        vertical-align: top;\n",
              "    }\n",
              "\n",
              "    .dataframe thead th {\n",
              "        text-align: right;\n",
              "    }\n",
              "</style>\n",
              "<table border=\"1\" class=\"dataframe\">\n",
              "  <thead>\n",
              "    <tr style=\"text-align: right;\">\n",
              "      <th></th>\n",
              "      <th>tweets</th>\n",
              "      <th>date</th>\n",
              "      <th>city</th>\n",
              "      <th>user_location</th>\n",
              "      <th>id</th>\n",
              "      <th>link</th>\n",
              "      <th>sent_vader</th>\n",
              "      <th>sent_textblob</th>\n",
              "    </tr>\n",
              "  </thead>\n",
              "  <tbody>\n",
              "    <tr>\n",
              "      <th>20</th>\n",
              "      <td>Señores\\nLa @CopaAmerica no se jugará en Colom...</td>\n",
              "      <td>2021-05-20 21:50:53</td>\n",
              "      <td>Bogotá</td>\n",
              "      <td>Colombia</td>\n",
              "      <td>1395497279570784258</td>\n",
              "      <td>https://twitter.com/i/web/stuatus/139549727957...</td>\n",
              "      <td>-0.9274</td>\n",
              "      <td>0.0</td>\n",
              "    </tr>\n",
              "    <tr>\n",
              "      <th>87</th>\n",
              "      <td>@mauricioacostal Gracias por compartir esta tr...</td>\n",
              "      <td>2021-05-20 21:04:59</td>\n",
              "      <td>Bogotá</td>\n",
              "      <td>Bogotá</td>\n",
              "      <td>1395485728751165445</td>\n",
              "      <td>https://twitter.com/i/web/stuatus/139548572875...</td>\n",
              "      <td>-0.6486</td>\n",
              "      <td>0.0</td>\n",
              "    </tr>\n",
              "    <tr>\n",
              "      <th>12</th>\n",
              "      <td>#PérdidasSectorAvícola | La situación pone en ...</td>\n",
              "      <td>2021-05-20 21:55:09</td>\n",
              "      <td>Bogotá</td>\n",
              "      <td>Colombia</td>\n",
              "      <td>1395498354688335874</td>\n",
              "      <td>https://twitter.com/i/web/stuatus/139549835468...</td>\n",
              "      <td>-0.6486</td>\n",
              "      <td>0.0</td>\n",
              "    </tr>\n",
              "    <tr>\n",
              "      <th>9</th>\n",
              "      <td>¡Colombia no está sola! Nos acompaña el mu no ...</td>\n",
              "      <td>2021-05-20 21:56:12</td>\n",
              "      <td>Bogotá</td>\n",
              "      <td>Bogotá</td>\n",
              "      <td>1395498618581307396</td>\n",
              "      <td>https://twitter.com/i/web/stuatus/139549861858...</td>\n",
              "      <td>-0.6458</td>\n",
              "      <td>0.0</td>\n",
              "    </tr>\n",
              "    <tr>\n",
              "      <th>73</th>\n",
              "      <td>@RevistaSemana ¿Qué tan común es que una polic...</td>\n",
              "      <td>2021-05-20 21:16:27</td>\n",
              "      <td>Bogotá</td>\n",
              "      <td>Bogotá, Colombia</td>\n",
              "      <td>1395488616843972612</td>\n",
              "      <td>https://twitter.com/i/web/stuatus/139548861684...</td>\n",
              "      <td>-0.6046</td>\n",
              "      <td>0.0</td>\n",
              "    </tr>\n",
              "    <tr>\n",
              "      <th>...</th>\n",
              "      <td>...</td>\n",
              "      <td>...</td>\n",
              "      <td>...</td>\n",
              "      <td>...</td>\n",
              "      <td>...</td>\n",
              "      <td>...</td>\n",
              "      <td>...</td>\n",
              "      <td>...</td>\n",
              "    </tr>\n",
              "    <tr>\n",
              "      <th>98</th>\n",
              "      <td>Mi equipo lo hizo con la intención de apoyar e...</td>\n",
              "      <td>2021-05-20 21:00:25</td>\n",
              "      <td>Bogotá</td>\n",
              "      <td>Bogotá, D.C., Colombia</td>\n",
              "      <td>1395484582133313536</td>\n",
              "      <td>https://twitter.com/i/web/stuatus/139548458213...</td>\n",
              "      <td>0.3612</td>\n",
              "      <td>0.0</td>\n",
              "    </tr>\n",
              "    <tr>\n",
              "      <th>28</th>\n",
              "      <td>@_UnaMMas_ Tú solo piensa: \"a parar para avanz...</td>\n",
              "      <td>2021-05-20 21:47:34</td>\n",
              "      <td>Bogotá</td>\n",
              "      <td>Colombia</td>\n",
              "      <td>1395496445441105922</td>\n",
              "      <td>https://twitter.com/i/web/stuatus/139549644544...</td>\n",
              "      <td>0.3818</td>\n",
              "      <td>0.0</td>\n",
              "    </tr>\n",
              "    <tr>\n",
              "      <th>25</th>\n",
              "      <td>@Federiko33 ¡Hola! Lamentamos la situación pre...</td>\n",
              "      <td>2021-05-20 21:48:19</td>\n",
              "      <td>Bogotá</td>\n",
              "      <td>Colombia</td>\n",
              "      <td>1395496635577348113</td>\n",
              "      <td>https://twitter.com/i/web/stuatus/139549663557...</td>\n",
              "      <td>0.4003</td>\n",
              "      <td>0.0</td>\n",
              "    </tr>\n",
              "    <tr>\n",
              "      <th>21</th>\n",
              "      <td>Transmilenio ha sido casi destruído por los ma...</td>\n",
              "      <td>2021-05-20 21:50:38</td>\n",
              "      <td>Bogotá</td>\n",
              "      <td>Bogotá, Colombia</td>\n",
              "      <td>1395497218489077761</td>\n",
              "      <td>https://twitter.com/i/web/stuatus/139549721848...</td>\n",
              "      <td>0.4993</td>\n",
              "      <td>0.0</td>\n",
              "    </tr>\n",
              "    <tr>\n",
              "      <th>79</th>\n",
              "      <td>Tengo que hacer un discurso en mi trabajo. Med...</td>\n",
              "      <td>2021-05-20 21:13:48</td>\n",
              "      <td>Bogotá</td>\n",
              "      <td>Bogotá, Colombia</td>\n",
              "      <td>1395487950188728324</td>\n",
              "      <td>https://twitter.com/i/web/stuatus/139548795018...</td>\n",
              "      <td>0.5093</td>\n",
              "      <td>0.0</td>\n",
              "    </tr>\n",
              "  </tbody>\n",
              "</table>\n",
              "<p>100 rows × 8 columns</p>\n",
              "</div>"
            ],
            "text/plain": [
              "                                               tweets  ... sent_textblob\n",
              "20  Señores\\nLa @CopaAmerica no se jugará en Colom...  ...           0.0\n",
              "87  @mauricioacostal Gracias por compartir esta tr...  ...           0.0\n",
              "12  #PérdidasSectorAvícola | La situación pone en ...  ...           0.0\n",
              "9   ¡Colombia no está sola! Nos acompaña el mu no ...  ...           0.0\n",
              "73  @RevistaSemana ¿Qué tan común es que una polic...  ...           0.0\n",
              "..                                                ...  ...           ...\n",
              "98  Mi equipo lo hizo con la intención de apoyar e...  ...           0.0\n",
              "28  @_UnaMMas_ Tú solo piensa: \"a parar para avanz...  ...           0.0\n",
              "25  @Federiko33 ¡Hola! Lamentamos la situación pre...  ...           0.0\n",
              "21  Transmilenio ha sido casi destruído por los ma...  ...           0.0\n",
              "79  Tengo que hacer un discurso en mi trabajo. Med...  ...           0.0\n",
              "\n",
              "[100 rows x 8 columns]"
            ]
          },
          "metadata": {
            "tags": []
          },
          "execution_count": 59
        }
      ]
    }
  ]
}